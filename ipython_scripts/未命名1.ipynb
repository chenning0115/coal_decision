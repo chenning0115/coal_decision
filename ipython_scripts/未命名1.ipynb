{
 "cells": [
  {
   "cell_type": "code",
   "execution_count": 1,
   "metadata": {},
   "outputs": [],
   "source": [
    "import numpy as np\n",
    "import pandas as pd"
   ]
  },
  {
   "cell_type": "code",
   "execution_count": 2,
   "metadata": {},
   "outputs": [],
   "source": [
    "data = pd.read_excel('./data/coal_case.xlsx')"
   ]
  },
  {
   "cell_type": "code",
   "execution_count": 5,
   "metadata": {},
   "outputs": [],
   "source": [
    "l = data.iloc[0]"
   ]
  },
  {
   "cell_type": "code",
   "execution_count": 8,
   "metadata": {},
   "outputs": [
    {
     "data": {
      "text/plain": [
       "{'SGALBH': '事故案例编号',\n",
       " 'SGGCMSYW': '事故过程描述原文',\n",
       " 'SGYYFXYW': '事故原因分析原文',\n",
       " 'SGJYCSYW': '事故救援措施原文',\n",
       " 'SGFFCSYW': '事故防范措施原文',\n",
       " 'BZ1': '备注1',\n",
       " 'SGALBH.1': '事故案例编号',\n",
       " 'QYMC': '企业名称',\n",
       " 'QYXZ': '企业性质',\n",
       " 'MKJB': '煤矿级别',\n",
       " 'MKLX': '煤矿类型',\n",
       " 'WZYZ': '五证一照齐全情况',\n",
       " 'SPTG': '审批通过',\n",
       " 'SJSCNL1': '设计生产能力（万吨/年）',\n",
       " 'SJSCNL2': '实际生产能力（万吨/年）',\n",
       " 'CYRYSL': '从业人员数量',\n",
       " 'ZQXDWSYCL': '灾前相对瓦斯涌出量（m3/t）',\n",
       " 'ZQJDWSYCL': '灾前绝对瓦斯涌出量（m3/min）',\n",
       " 'ZHWSYCL': '灾后瓦斯涌出量（m3）',\n",
       " 'KJWSDJ': '矿井瓦斯等级',\n",
       " 'KJKCFS': '矿井开采方式',\n",
       " 'KJTFFS': '矿井通风方式',\n",
       " 'BZ2': '备注2',\n",
       " 'SGALBH.2': '事故案例编号',\n",
       " 'SGSJ': '事故时间',\n",
       " 'SGDD': '事故地点',\n",
       " 'SGLX': '事故类型',\n",
       " 'SGXZ': '事故性质',\n",
       " 'DZGZFZCD': '地质构造复杂程度',\n",
       " 'SGSWDZHJ': '事故水文地质环境',\n",
       " 'BZ3': '备注3',\n",
       " 'SGALBH.3': '事故案例编号',\n",
       " 'SWRS': '死亡人数',\n",
       " 'SWRS.1': '死亡人数',\n",
       " 'SSRS': '受伤人数',\n",
       " 'SSRS.1': '受伤人数',\n",
       " 'ZJJJSS': '直接经济损失（万元）',\n",
       " 'ZJJJSS.1': '直接经济损失（万元）',\n",
       " 'JJJJSS': '间接经济损失（万元）',\n",
       " 'YJXYJB': '应急响应级别',\n",
       " 'YXFW': '影响范围',\n",
       " 'CH4HL': 'CH4含量（%）',\n",
       " 'CO2HL': 'CO2含量（%）',\n",
       " 'COHL': 'CO含量（%）',\n",
       " 'QTJCHS': '其他监测参数',\n",
       " 'BZ4': '备注4',\n",
       " 'SGALBH.4': '事故案例编号',\n",
       " 'ZJYY': '直接原因',\n",
       " 'JJYY': '间接原因',\n",
       " 'RWYY': '人为原因',\n",
       " 'JXYY': '机械原因',\n",
       " 'GLYY': '管理原因',\n",
       " 'HJYY': '环境原因',\n",
       " 'BZ5': '备注5',\n",
       " 'SGALBH.5': '事故案例编号',\n",
       " 'DDPZZY1': '调度配置资源1',\n",
       " 'DDPZZY2': '调度配置资源2',\n",
       " 'DDPZZY3': '调度配置资源3',\n",
       " 'DDPZZY4': '调度配置资源4',\n",
       " 'DDPZZY5': '调度配置资源5',\n",
       " 'BZ6': '备注6',\n",
       " 'SGALBH.6': '事故案例编号',\n",
       " 'ZZH': '总指挥',\n",
       " 'FZZH': '副总指挥',\n",
       " 'YJJYZJ1': '应急救援专家1',\n",
       " 'YJJYZJ2': '应急救援专家2',\n",
       " 'YJJYZJ3': '应急救援专家3',\n",
       " 'YJJYCY1': '应急救援成员1',\n",
       " 'YJJYCY1.1': '应急救援成员2',\n",
       " 'YJJYCY1.2': '应急救援成员3',\n",
       " 'YJJYCY1.3': '应急救援成员4',\n",
       " 'YJJYCY1.4': '应急救援成员5',\n",
       " 'BZ7': '备注7',\n",
       " 'SGALBH.7': '事故案例编号',\n",
       " 'ALDCJR': '案例的创建人',\n",
       " 'ALDSHR': '案例的审核人',\n",
       " 'ALJRRQ': '案例加入日期',\n",
       " 'ALFYCS': '案例复用次数',\n",
       " 'ALYXCS': '案例有效次数',\n",
       " 'DFAXGDPF': '对方案效果的评分',\n",
       " 'DFAXGDMS': '对方案效果的描述',\n",
       " 'BZ8': '备注8'}"
      ]
     },
     "execution_count": 8,
     "metadata": {},
     "output_type": "execute_result"
    }
   ],
   "source": [
    "l.to_dict()"
   ]
  },
  {
   "cell_type": "code",
   "execution_count": null,
   "metadata": {},
   "outputs": [],
   "source": []
  }
 ],
 "metadata": {
  "kernelspec": {
   "display_name": "Python 3",
   "language": "python",
   "name": "python3"
  },
  "language_info": {
   "codemirror_mode": {
    "name": "ipython",
    "version": 3
   },
   "file_extension": ".py",
   "mimetype": "text/x-python",
   "name": "python",
   "nbconvert_exporter": "python",
   "pygments_lexer": "ipython3",
   "version": "3.6.6"
  }
 },
 "nbformat": 4,
 "nbformat_minor": 2
}
